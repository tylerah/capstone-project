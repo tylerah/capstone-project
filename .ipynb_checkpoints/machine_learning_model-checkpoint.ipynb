{
 "cells": [
  {
   "cell_type": "code",
   "execution_count": 1,
   "id": "073e1ce9",
   "metadata": {},
   "outputs": [],
   "source": [
    "# import dependencies\n",
    "import pandas as pd\n",
    "from sklearn.ensemble import RandomForestClassifier\n",
    "from sklearn.preprocessing import StandardScaler\n",
    "from sklearn.model_selection import train_test_split\n",
    "from sklearn.metrics import confusion_matrix, accuracy_score, classification_report"
   ]
  },
  {
   "cell_type": "code",
   "execution_count": 2,
   "id": "37dbd2de",
   "metadata": {
    "scrolled": true
   },
   "outputs": [
    {
     "data": {
      "text/html": [
       "<div>\n",
       "<style scoped>\n",
       "    .dataframe tbody tr th:only-of-type {\n",
       "        vertical-align: middle;\n",
       "    }\n",
       "\n",
       "    .dataframe tbody tr th {\n",
       "        vertical-align: top;\n",
       "    }\n",
       "\n",
       "    .dataframe thead th {\n",
       "        text-align: right;\n",
       "    }\n",
       "</style>\n",
       "<table border=\"1\" class=\"dataframe\">\n",
       "  <thead>\n",
       "    <tr style=\"text-align: right;\">\n",
       "      <th></th>\n",
       "      <th>RaceEth</th>\n",
       "      <th>Record</th>\n",
       "      <th>Age</th>\n",
       "      <th>Sex</th>\n",
       "      <th>Grade</th>\n",
       "      <th>Hispanic</th>\n",
       "      <th>Height</th>\n",
       "      <th>Weight2</th>\n",
       "      <th>Seatbelt_Use</th>\n",
       "      <th>Driving_DUI_Other</th>\n",
       "      <th>...</th>\n",
       "      <th>BMIPCT</th>\n",
       "      <th>Weight</th>\n",
       "      <th>Stratum</th>\n",
       "      <th>PSU</th>\n",
       "      <th>Suicide_attempt_dummy</th>\n",
       "      <th>white</th>\n",
       "      <th>AIN</th>\n",
       "      <th>asian</th>\n",
       "      <th>black</th>\n",
       "      <th>PI</th>\n",
       "    </tr>\n",
       "  </thead>\n",
       "  <tbody>\n",
       "    <tr>\n",
       "      <th>0</th>\n",
       "      <td>7.0</td>\n",
       "      <td>1.0</td>\n",
       "      <td>5.0</td>\n",
       "      <td>2.0</td>\n",
       "      <td>2.0</td>\n",
       "      <td>1.0</td>\n",
       "      <td>1.63</td>\n",
       "      <td>54.89</td>\n",
       "      <td>4.0</td>\n",
       "      <td>1.0</td>\n",
       "      <td>...</td>\n",
       "      <td>46.88</td>\n",
       "      <td>1.66</td>\n",
       "      <td>213.0</td>\n",
       "      <td>57923.0</td>\n",
       "      <td>1.0</td>\n",
       "      <td>0</td>\n",
       "      <td>1</td>\n",
       "      <td>0</td>\n",
       "      <td>0</td>\n",
       "      <td>0</td>\n",
       "    </tr>\n",
       "    <tr>\n",
       "      <th>1</th>\n",
       "      <td>8.0</td>\n",
       "      <td>2.0</td>\n",
       "      <td>4.0</td>\n",
       "      <td>2.0</td>\n",
       "      <td>2.0</td>\n",
       "      <td>2.0</td>\n",
       "      <td>1.60</td>\n",
       "      <td>53.98</td>\n",
       "      <td>5.0</td>\n",
       "      <td>2.0</td>\n",
       "      <td>...</td>\n",
       "      <td>62.23</td>\n",
       "      <td>1.38</td>\n",
       "      <td>213.0</td>\n",
       "      <td>57923.0</td>\n",
       "      <td>1.0</td>\n",
       "      <td>0</td>\n",
       "      <td>1</td>\n",
       "      <td>0</td>\n",
       "      <td>0</td>\n",
       "      <td>1</td>\n",
       "    </tr>\n",
       "    <tr>\n",
       "      <th>2</th>\n",
       "      <td>8.0</td>\n",
       "      <td>3.0</td>\n",
       "      <td>4.0</td>\n",
       "      <td>1.0</td>\n",
       "      <td>2.0</td>\n",
       "      <td>2.0</td>\n",
       "      <td>1.68</td>\n",
       "      <td>43.09</td>\n",
       "      <td>4.0</td>\n",
       "      <td>1.0</td>\n",
       "      <td>...</td>\n",
       "      <td>0.59</td>\n",
       "      <td>1.49</td>\n",
       "      <td>213.0</td>\n",
       "      <td>57923.0</td>\n",
       "      <td>1.0</td>\n",
       "      <td>1</td>\n",
       "      <td>0</td>\n",
       "      <td>1</td>\n",
       "      <td>0</td>\n",
       "      <td>0</td>\n",
       "    </tr>\n",
       "    <tr>\n",
       "      <th>3</th>\n",
       "      <td>5.0</td>\n",
       "      <td>4.0</td>\n",
       "      <td>4.0</td>\n",
       "      <td>2.0</td>\n",
       "      <td>2.0</td>\n",
       "      <td>2.0</td>\n",
       "      <td>1.78</td>\n",
       "      <td>68.95</td>\n",
       "      <td>4.0</td>\n",
       "      <td>1.0</td>\n",
       "      <td>...</td>\n",
       "      <td>69.78</td>\n",
       "      <td>1.71</td>\n",
       "      <td>213.0</td>\n",
       "      <td>57923.0</td>\n",
       "      <td>1.0</td>\n",
       "      <td>1</td>\n",
       "      <td>0</td>\n",
       "      <td>0</td>\n",
       "      <td>0</td>\n",
       "      <td>0</td>\n",
       "    </tr>\n",
       "    <tr>\n",
       "      <th>4</th>\n",
       "      <td>6.0</td>\n",
       "      <td>5.0</td>\n",
       "      <td>5.0</td>\n",
       "      <td>2.0</td>\n",
       "      <td>2.0</td>\n",
       "      <td>1.0</td>\n",
       "      <td>1.78</td>\n",
       "      <td>58.97</td>\n",
       "      <td>4.0</td>\n",
       "      <td>1.0</td>\n",
       "      <td>...</td>\n",
       "      <td>16.73</td>\n",
       "      <td>1.66</td>\n",
       "      <td>213.0</td>\n",
       "      <td>57923.0</td>\n",
       "      <td>1.0</td>\n",
       "      <td>0</td>\n",
       "      <td>0</td>\n",
       "      <td>0</td>\n",
       "      <td>0</td>\n",
       "      <td>0</td>\n",
       "    </tr>\n",
       "  </tbody>\n",
       "</table>\n",
       "<p>5 rows × 110 columns</p>\n",
       "</div>"
      ],
      "text/plain": [
       "   RaceEth  Record  Age  Sex  Grade  Hispanic  Height  Weight2  Seatbelt_Use  \\\n",
       "0      7.0     1.0  5.0  2.0    2.0       1.0    1.63    54.89           4.0   \n",
       "1      8.0     2.0  4.0  2.0    2.0       2.0    1.60    53.98           5.0   \n",
       "2      8.0     3.0  4.0  1.0    2.0       2.0    1.68    43.09           4.0   \n",
       "3      5.0     4.0  4.0  2.0    2.0       2.0    1.78    68.95           4.0   \n",
       "4      6.0     5.0  5.0  2.0    2.0       1.0    1.78    58.97           4.0   \n",
       "\n",
       "   Driving_DUI_Other  ...  BMIPCT  Weight  Stratum      PSU  \\\n",
       "0                1.0  ...   46.88    1.66    213.0  57923.0   \n",
       "1                2.0  ...   62.23    1.38    213.0  57923.0   \n",
       "2                1.0  ...    0.59    1.49    213.0  57923.0   \n",
       "3                1.0  ...   69.78    1.71    213.0  57923.0   \n",
       "4                1.0  ...   16.73    1.66    213.0  57923.0   \n",
       "\n",
       "   Suicide_attempt_dummy  white  AIN  asian  black  PI  \n",
       "0                    1.0      0    1      0      0   0  \n",
       "1                    1.0      0    1      0      0   1  \n",
       "2                    1.0      1    0      1      0   0  \n",
       "3                    1.0      1    0      0      0   0  \n",
       "4                    1.0      0    0      0      0   0  \n",
       "\n",
       "[5 rows x 110 columns]"
      ]
     },
     "execution_count": 2,
     "metadata": {},
     "output_type": "execute_result"
    }
   ],
   "source": [
    "# load in processed data\n",
    "file_path = 'data_pad.csv' #interpolate_method_1\n",
    "df_survey = pd.read_csv(file_path)\n",
    "df_survey.drop(columns='Unnamed: 0', inplace=True)\n",
    "df_survey.head()"
   ]
  },
  {
   "cell_type": "code",
   "execution_count": 5,
   "id": "9c60d9bb",
   "metadata": {},
   "outputs": [],
   "source": [
    "# dropping question 29 since it seems to rely on question 28\n",
    "df_survey.drop(columns=['Suicide_attempt_injury'], inplace=True)\n",
    "# Dropping record column\n",
    "df_survey.drop(columns=['Record'], inplace=True)"
   ]
  },
  {
   "cell_type": "code",
   "execution_count": 7,
   "id": "13f74734",
   "metadata": {},
   "outputs": [],
   "source": [
    "# dropping the original target column\n",
    "df_survey.drop(columns=['Suicide_attempt'], inplace=True)"
   ]
  },
  {
   "cell_type": "code",
   "execution_count": 8,
   "id": "5078ccf9",
   "metadata": {},
   "outputs": [
    {
     "name": "stdout",
     "output_type": "stream",
     "text": [
      "1.0\n",
      "0.0\n"
     ]
    }
   ],
   "source": [
    "# target standardization check\n",
    "print(df_survey['Suicide_attempt_dummy'].max())\n",
    "print(df_survey['Suicide_attempt_dummy'].min())"
   ]
  },
  {
   "cell_type": "code",
   "execution_count": 9,
   "id": "304b9cab",
   "metadata": {},
   "outputs": [
    {
     "data": {
      "text/plain": [
       "RaceEth     float64\n",
       "Age         float64\n",
       "Sex         float64\n",
       "Grade       float64\n",
       "Hispanic    float64\n",
       "             ...   \n",
       "white         int64\n",
       "AIN           int64\n",
       "asian         int64\n",
       "black         int64\n",
       "PI            int64\n",
       "Length: 107, dtype: object"
      ]
     },
     "execution_count": 9,
     "metadata": {},
     "output_type": "execute_result"
    }
   ],
   "source": [
    "# checking column types\n",
    "df_survey.dtypes"
   ]
  },
  {
   "cell_type": "code",
   "execution_count": 10,
   "id": "4199001e",
   "metadata": {},
   "outputs": [
    {
     "data": {
      "text/html": [
       "<div>\n",
       "<style scoped>\n",
       "    .dataframe tbody tr th:only-of-type {\n",
       "        vertical-align: middle;\n",
       "    }\n",
       "\n",
       "    .dataframe tbody tr th {\n",
       "        vertical-align: top;\n",
       "    }\n",
       "\n",
       "    .dataframe thead th {\n",
       "        text-align: right;\n",
       "    }\n",
       "</style>\n",
       "<table border=\"1\" class=\"dataframe\">\n",
       "  <thead>\n",
       "    <tr style=\"text-align: right;\">\n",
       "      <th></th>\n",
       "    </tr>\n",
       "  </thead>\n",
       "  <tbody>\n",
       "    <tr>\n",
       "      <th>0</th>\n",
       "    </tr>\n",
       "    <tr>\n",
       "      <th>1</th>\n",
       "    </tr>\n",
       "    <tr>\n",
       "      <th>2</th>\n",
       "    </tr>\n",
       "    <tr>\n",
       "      <th>3</th>\n",
       "    </tr>\n",
       "    <tr>\n",
       "      <th>4</th>\n",
       "    </tr>\n",
       "  </tbody>\n",
       "</table>\n",
       "</div>"
      ],
      "text/plain": [
       "Empty DataFrame\n",
       "Columns: []\n",
       "Index: [0, 1, 2, 3, 4]"
      ]
     },
     "execution_count": 10,
     "metadata": {},
     "output_type": "execute_result"
    }
   ],
   "source": [
    "df_survey.select_dtypes('object').head()"
   ]
  },
  {
   "cell_type": "code",
   "execution_count": 11,
   "id": "2fda44dc",
   "metadata": {},
   "outputs": [],
   "source": [
    "# temporarily drop nas\n",
    "# df_survey.dropna().head()"
   ]
  },
  {
   "cell_type": "code",
   "execution_count": 13,
   "id": "52404a7e",
   "metadata": {},
   "outputs": [],
   "source": [
    "# defining features\n",
    "X = df_survey.copy()\n",
    "X = X.drop('Suicide_attempt_dummy', axis=1)"
   ]
  },
  {
   "cell_type": "code",
   "execution_count": 14,
   "id": "b646e2b2",
   "metadata": {},
   "outputs": [
    {
     "data": {
      "text/plain": [
       "array([1., 1., 1., 1., 1.])"
      ]
     },
     "execution_count": 14,
     "metadata": {},
     "output_type": "execute_result"
    }
   ],
   "source": [
    "# defining target\n",
    "y = df_survey['Suicide_attempt_dummy'].ravel()\n",
    "y[:5]"
   ]
  },
  {
   "cell_type": "code",
   "execution_count": 15,
   "id": "09afa6fe",
   "metadata": {},
   "outputs": [],
   "source": [
    "# split the data into training and testing sets\n",
    "X_train, X_test, y_train, y_test = train_test_split(X, y, random_state=78)"
   ]
  },
  {
   "cell_type": "code",
   "execution_count": 16,
   "id": "58eaa9a9",
   "metadata": {},
   "outputs": [],
   "source": [
    "# scale the data\n",
    "scaler = StandardScaler()\n",
    "X_scaler = scaler.fit(X_train)\n",
    "X_train_scaled = X_scaler.transform(X_train)\n",
    "X_test_scaled = X_scaler.transform(X_test)"
   ]
  },
  {
   "cell_type": "code",
   "execution_count": 17,
   "id": "d8f06841",
   "metadata": {},
   "outputs": [],
   "source": [
    "# create the random forest classifier\n",
    "rf_model = RandomForestClassifier(n_estimators=128, random_state=78)"
   ]
  },
  {
   "cell_type": "code",
   "execution_count": 18,
   "id": "cd8d5fbc",
   "metadata": {},
   "outputs": [],
   "source": [
    "# fit the model\n",
    "rf_model = rf_model.fit(X_train_scaled, y_train)"
   ]
  },
  {
   "cell_type": "code",
   "execution_count": 19,
   "id": "eba7d9b4",
   "metadata": {},
   "outputs": [],
   "source": [
    "# make predictions\n",
    "predictions = rf_model.predict(X_test_scaled)"
   ]
  },
  {
   "cell_type": "code",
   "execution_count": 20,
   "id": "142eff40",
   "metadata": {},
   "outputs": [
    {
     "data": {
      "text/html": [
       "<div>\n",
       "<style scoped>\n",
       "    .dataframe tbody tr th:only-of-type {\n",
       "        vertical-align: middle;\n",
       "    }\n",
       "\n",
       "    .dataframe tbody tr th {\n",
       "        vertical-align: top;\n",
       "    }\n",
       "\n",
       "    .dataframe thead th {\n",
       "        text-align: right;\n",
       "    }\n",
       "</style>\n",
       "<table border=\"1\" class=\"dataframe\">\n",
       "  <thead>\n",
       "    <tr style=\"text-align: right;\">\n",
       "      <th></th>\n",
       "      <th>Predicted False</th>\n",
       "      <th>Predicted True</th>\n",
       "    </tr>\n",
       "  </thead>\n",
       "  <tbody>\n",
       "    <tr>\n",
       "      <th>Actual False</th>\n",
       "      <td>515</td>\n",
       "      <td>299</td>\n",
       "    </tr>\n",
       "    <tr>\n",
       "      <th>Actual True</th>\n",
       "      <td>10</td>\n",
       "      <td>2596</td>\n",
       "    </tr>\n",
       "  </tbody>\n",
       "</table>\n",
       "</div>"
      ],
      "text/plain": [
       "              Predicted False  Predicted True\n",
       "Actual False              515             299\n",
       "Actual True                10            2596"
      ]
     },
     "execution_count": 20,
     "metadata": {},
     "output_type": "execute_result"
    }
   ],
   "source": [
    "# calculate confusion matrix\n",
    "cm = confusion_matrix(y_test, predictions)\n",
    "cm_df = pd.DataFrame(\n",
    "    cm, index=['Actual False', 'Actual True'], columns=['Predicted False', 'Predicted True']\n",
    "    )\n",
    "cm_df"
   ]
  },
  {
   "cell_type": "code",
   "execution_count": 21,
   "id": "10e94804",
   "metadata": {},
   "outputs": [
    {
     "name": "stdout",
     "output_type": "stream",
     "text": [
      "CONFUSION MATRIX\n"
     ]
    },
    {
     "data": {
      "text/html": [
       "<div>\n",
       "<style scoped>\n",
       "    .dataframe tbody tr th:only-of-type {\n",
       "        vertical-align: middle;\n",
       "    }\n",
       "\n",
       "    .dataframe tbody tr th {\n",
       "        vertical-align: top;\n",
       "    }\n",
       "\n",
       "    .dataframe thead th {\n",
       "        text-align: right;\n",
       "    }\n",
       "</style>\n",
       "<table border=\"1\" class=\"dataframe\">\n",
       "  <thead>\n",
       "    <tr style=\"text-align: right;\">\n",
       "      <th></th>\n",
       "      <th>Predicted False</th>\n",
       "      <th>Predicted True</th>\n",
       "    </tr>\n",
       "  </thead>\n",
       "  <tbody>\n",
       "    <tr>\n",
       "      <th>Actual False</th>\n",
       "      <td>515</td>\n",
       "      <td>299</td>\n",
       "    </tr>\n",
       "    <tr>\n",
       "      <th>Actual True</th>\n",
       "      <td>10</td>\n",
       "      <td>2596</td>\n",
       "    </tr>\n",
       "  </tbody>\n",
       "</table>\n",
       "</div>"
      ],
      "text/plain": [
       "              Predicted False  Predicted True\n",
       "Actual False              515             299\n",
       "Actual True                10            2596"
      ]
     },
     "metadata": {},
     "output_type": "display_data"
    },
    {
     "name": "stdout",
     "output_type": "stream",
     "text": [
      "CLASSIFICATION REPORT\n",
      "              precision    recall  f1-score   support\n",
      "\n",
      "         0.0       0.98      0.63      0.77       814\n",
      "         1.0       0.90      1.00      0.94      2606\n",
      "\n",
      "    accuracy                           0.91      3420\n",
      "   macro avg       0.94      0.81      0.86      3420\n",
      "weighted avg       0.92      0.91      0.90      3420\n",
      "\n"
     ]
    }
   ],
   "source": [
    "# display results\n",
    "print('CONFUSION MATRIX')\n",
    "display(cm_df)\n",
    "print('CLASSIFICATION REPORT')\n",
    "print(classification_report(y_test, predictions))"
   ]
  },
  {
   "cell_type": "code",
   "execution_count": 22,
   "id": "782b02e7",
   "metadata": {},
   "outputs": [
    {
     "data": {
      "text/plain": [
       "[(0.0656737186805402, 'Condom_use'),\n",
       " (0.06034285796485131, 'Seatbelt_Use'),\n",
       " (0.05317625031046816, 'Tobacco_frequency_total'),\n",
       " (0.04894958461285657, 'Victim_rape'),\n",
       " (0.04108209976742026, 'Physical_fight'),\n",
       " (0.02823228268552291, 'Drug_use_frequency'),\n",
       " (0.02774480966616233, 'Sunscreen_use'),\n",
       " (0.027731250195055204, 'Carry_Weapon'),\n",
       " (0.024919072896693976, 'Victim_rape_relationship'),\n",
       " (0.0240721719726378, 'Tobacco_quit'),\n",
       " (0.02204971778840254, 'PSU'),\n",
       " (0.021207138337438546, 'Smoke_cigarette'),\n",
       " (0.018426182167009007, 'Stratum'),\n",
       " (0.018234934753128505, 'Victim_rape_12mos'),\n",
       " (0.01783584992695716, 'Carry_Gun'),\n",
       " (0.017393375509005642, 'Alcohol_acquire'),\n",
       " (0.01445726835679695, 'Sexual_orientation'),\n",
       " (0.014368714973319393, 'Tanning_Device_frequency'),\n",
       " (0.014058485341178881, 'Weight'),\n",
       " (0.01268179046715655, 'TV_frequency'),\n",
       " (0.012326121349487379, 'Nutrition_potatoes'),\n",
       " (0.011627150313049698, 'BMIPCT'),\n",
       " (0.011310608494041488, 'Grades_past_year'),\n",
       " (0.010438875755852325, 'Weight2'),\n",
       " (0.009318499907096952, 'Height'),\n",
       " (0.009185868592067454, 'Nutrition_allergies'),\n",
       " (0.008722650600675529, 'Nutrition_vegetables'),\n",
       " (0.008231721806905947, 'Suicide_consider'),\n",
       " (0.00817311277492734, 'Sports_participation'),\n",
       " (0.007617969617467362, 'Nutrition_juice'),\n",
       " (0.007617282035447217, 'Weight_self_description'),\n",
       " (0.007566724990360664, 'Asthma'),\n",
       " (0.007505938106312603, 'Nutrition_carrots'),\n",
       " (0.0074116957089231965, 'Tested_STI'),\n",
       " (0.007383418001937429, 'Suicide_plan'),\n",
       " (0.007302619030130217, 'Nutrition_salad'),\n",
       " (0.007194818525433148, 'Concussion'),\n",
       " (0.007115576029687468, 'Alcohol_initial_age'),\n",
       " (0.0068604544695149185, 'Driving_Distracted'),\n",
       " (0.006859319087586678, 'Prescription_abuse_frequency'),\n",
       " (0.006842045594105639, 'Smoke_initial_age'),\n",
       " (0.006662759132883727, 'Alcohol_total_drinks'),\n",
       " (0.006639288802223643, 'Nutrition_milk'),\n",
       " (0.006523496651607171, 'Nutrition_water'),\n",
       " (0.006502230469605013, 'Nutrition_soda'),\n",
       " (0.005982366706583866, 'Nutrition_sportsdrink'),\n",
       " (0.005904205537521994, 'Weight_loss'),\n",
       " (0.005808664572076543, 'Sex_sexual_partners'),\n",
       " (0.005727836397991344, 'RaceEth'),\n",
       " (0.005698593978163726, 'Age'),\n",
       " (0.005511526737105088, 'Nutrition_fruit'),\n",
       " (0.005502365797159922, 'Drug_hallucinogenic'),\n",
       " (0.005415632838048903, 'Marijuana_synthetic'),\n",
       " (0.005148930744867574, 'Nutrition_breakfast'),\n",
       " (0.005085808857381627, 'First_sexual_encounter'),\n",
       " (0.005009222761433857, 'English_fluency'),\n",
       " (0.0049503314855980154, 'Vape_acquire'),\n",
       " (0.004896949233237447, 'Marijuana_initial_age'),\n",
       " (0.0048345395361309, 'Sex_alcohol_drugs'),\n",
       " (0.004821919175467305, 'Sexually_active'),\n",
       " (0.004805000937491242, 'Victim_violence_relationship'),\n",
       " (0.0047444758912882435, 'Grade'),\n",
       " (0.004692775595401489, 'Video_Games_frequency'),\n",
       " (0.004680775362473871, 'Alcohol_drink'),\n",
       " (0.004617664803676469, 'Tested_HIV_Aids'),\n",
       " (0.004478514373903743, 'Excercise_frequency'),\n",
       " (0.004383403131792936, 'Dentist_visit'),\n",
       " (0.004326004396486202, 'white'),\n",
       " (0.004303869545449867, 'Difficult_focus'),\n",
       " (0.004232262478918285, 'Sex_birth_control'),\n",
       " (0.004203300600024756, 'Bullied_online'),\n",
       " (0.004178164181672745, 'Vape_frequency'),\n",
       " (0.0041083592603718, 'Drug_ecstasy'),\n",
       " (0.0040524578874322785, 'Drug_acquire_school'),\n",
       " (0.003963987553442397, 'Driving_DUI_Self'),\n",
       " (0.003900878747169205, 'Sleep_school_night'),\n",
       " (0.003882069384465032, 'Marijuana_use'),\n",
       " (0.0038647891443299403, 'Bullied_school'),\n",
       " (0.0038580976232637006, 'Hopeless'),\n",
       " (0.003814874567425888, 'Vape_use'),\n",
       " (0.0035715571850725896, 'Marijuana_frequency'),\n",
       " (0.0035419696359742323, 'Number_sexual_partners_3mo'),\n",
       " (0.003459845212679407, 'Physical_fight_school'),\n",
       " (0.0032660215903942413, 'Alcohol_four_drinks'),\n",
       " (0.0031408372283814358, 'Number_sexual_partners'),\n",
       " (0.003034457919599707, 'Excercise_strength'),\n",
       " (0.0026890414969884284, 'Phys_Ed_frequency'),\n",
       " (0.0025999145061316505, 'Driving_DUI_Other'),\n",
       " (0.002573435025587122, 'Prescription_abuse'),\n",
       " (0.0025596216953498066, 'School_Unsafe'),\n",
       " (0.0024339684997121106, 'Hispanic'),\n",
       " (0.002281831822623165, 'Drug_meth'),\n",
       " (0.0022755166075177843, 'black'),\n",
       " (0.002186082785656535, 'Tobacco_frequency_days'),\n",
       " (0.0021581918235013373, 'Cigars_frequency'),\n",
       " (0.002110694017138206, 'Drug_steroids'),\n",
       " (0.0020861544011217233, 'Sex'),\n",
       " (0.0020559037063891034, 'Drug_needle'),\n",
       " (0.0020551930076275894, 'Drug_sniff_glue'),\n",
       " (0.0018922919987539265, 'School_physical_condition'),\n",
       " (0.0017402369341231502, 'Tobacco_chew_frequency'),\n",
       " (0.0016791441443031359, 'Carry_Weapon_School'),\n",
       " (0.0012029252922992992, 'Drug_heroin'),\n",
       " (0.0009481690228178785, 'AIN'),\n",
       " (0.0008862151953441687, 'asian'),\n",
       " (0.0006023571997321235, 'PI')]"
      ]
     },
     "execution_count": 22,
     "metadata": {},
     "output_type": "execute_result"
    }
   ],
   "source": [
    "# calculate feature importance \n",
    "importances = sorted(zip(rf_model.feature_importances_, X.columns), reverse=True)\n",
    "importances"
   ]
  },
  {
   "cell_type": "code",
   "execution_count": 24,
   "id": "b396f9b1",
   "metadata": {},
   "outputs": [],
   "source": [
    "importances = pd.Series(importances)\n",
    "importances.to_csv('feature_importance.csv', index=False, header=False)"
   ]
  }
 ],
 "metadata": {
  "kernelspec": {
   "display_name": "mlenv",
   "language": "python",
   "name": "mlenv"
  },
  "language_info": {
   "codemirror_mode": {
    "name": "ipython",
    "version": 3
   },
   "file_extension": ".py",
   "mimetype": "text/x-python",
   "name": "python",
   "nbconvert_exporter": "python",
   "pygments_lexer": "ipython3",
   "version": "3.7.13"
  }
 },
 "nbformat": 4,
 "nbformat_minor": 5
}
