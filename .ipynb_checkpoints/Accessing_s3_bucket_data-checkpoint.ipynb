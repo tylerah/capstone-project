{
 "cells": [
  {
   "cell_type": "code",
   "execution_count": 5,
   "id": "0af84af4",
   "metadata": {},
   "outputs": [],
   "source": [
    "import boto3\n",
    "import pandas as pd\n",
    "import os\n",
    "\n",
    "from config import ACCESS_ID \n",
    "from config import ACCESS_KEY \n",
    "from config import db_password\n",
    "\n",
    "from sqlalchemy import create_engine"
   ]
  },
  {
   "cell_type": "code",
   "execution_count": 6,
   "id": "d82be74a",
   "metadata": {},
   "outputs": [
    {
     "data": {
      "text/html": [
       "<div>\n",
       "<style scoped>\n",
       "    .dataframe tbody tr th:only-of-type {\n",
       "        vertical-align: middle;\n",
       "    }\n",
       "\n",
       "    .dataframe tbody tr th {\n",
       "        vertical-align: top;\n",
       "    }\n",
       "\n",
       "    .dataframe thead th {\n",
       "        text-align: right;\n",
       "    }\n",
       "</style>\n",
       "<table border=\"1\" class=\"dataframe\">\n",
       "  <thead>\n",
       "    <tr style=\"text-align: right;\">\n",
       "      <th></th>\n",
       "      <th>This</th>\n",
       "      <th>Is</th>\n",
       "      <th>Fake</th>\n",
       "      <th>Data</th>\n",
       "    </tr>\n",
       "  </thead>\n",
       "  <tbody>\n",
       "    <tr>\n",
       "      <th>0</th>\n",
       "      <td>3</td>\n",
       "      <td>1</td>\n",
       "      <td>1</td>\n",
       "      <td>1</td>\n",
       "    </tr>\n",
       "    <tr>\n",
       "      <th>1</th>\n",
       "      <td>4</td>\n",
       "      <td>2</td>\n",
       "      <td>0</td>\n",
       "      <td>3</td>\n",
       "    </tr>\n",
       "    <tr>\n",
       "      <th>2</th>\n",
       "      <td>6</td>\n",
       "      <td>8</td>\n",
       "      <td>9</td>\n",
       "      <td>6</td>\n",
       "    </tr>\n",
       "    <tr>\n",
       "      <th>3</th>\n",
       "      <td>1</td>\n",
       "      <td>9</td>\n",
       "      <td>5</td>\n",
       "      <td>8</td>\n",
       "    </tr>\n",
       "    <tr>\n",
       "      <th>4</th>\n",
       "      <td>7</td>\n",
       "      <td>4</td>\n",
       "      <td>3</td>\n",
       "      <td>6</td>\n",
       "    </tr>\n",
       "    <tr>\n",
       "      <th>5</th>\n",
       "      <td>8</td>\n",
       "      <td>2</td>\n",
       "      <td>5</td>\n",
       "      <td>3</td>\n",
       "    </tr>\n",
       "  </tbody>\n",
       "</table>\n",
       "</div>"
      ],
      "text/plain": [
       "   This  Is   Fake  Data\n",
       "0     3    1     1     1\n",
       "1     4    2     0     3\n",
       "2     6    8     9     6\n",
       "3     1    9     5     8\n",
       "4     7    4     3     6\n",
       "5     8    2     5     3"
      ]
     },
     "execution_count": 6,
     "metadata": {},
     "output_type": "execute_result"
    }
   ],
   "source": [
    "# Retrieving data from S3 bucket and reading it into a dataframe\n",
    "s3_client = boto3.client(\n",
    "    \"s3\",\n",
    "    aws_access_key_id=ACCESS_ID,\n",
    "    aws_secret_access_key= ACCESS_KEY)\n",
    "\n",
    "response = s3_client.get_object(Bucket='group2-yrbs-data', Key='fake_data.csv')\n",
    "\n",
    "status = response.get(\"ResponseMetadata\", {}).get(\"HTTPStatusCode\")\n",
    "\n",
    "df = pd.read_csv(response.get(\"Body\"))\n",
    "df\n",
    "\n",
    "# Replace this with cleaned data "
   ]
  },
  {
   "cell_type": "code",
   "execution_count": 7,
   "id": "6707c0f2",
   "metadata": {},
   "outputs": [],
   "source": [
    "host=\"yrbs-database2.cfajpmglo7yt.us-west-1.rds.amazonaws.com\"\n",
    "port=int(5432)\n",
    "user=\"postgres\"\n",
    "passw= db_password\n",
    "database=\"yrbs-database2\"\n",
    "\n",
    "mydb = create_engine(\"postgresql://\" + user + \":\" + passw + \"@\" + host + \":\" + str(port) + \"/\" + database, echo=False)\n",
    "\n",
    "\n",
    "\n",
    "df.to_sql(name='fake_data', con=mydb, if_exists = \"replace\", index=False)\n",
    "\n",
    "\n",
    "#if dataframe ends up being too big to export, look to module 8.5.1 for more instructions\n"
   ]
  },
  {
   "cell_type": "code",
   "execution_count": 8,
   "id": "1958e386",
   "metadata": {},
   "outputs": [],
   "source": [
    "# next get data from database to df so that we can use it for machine learning\n",
    "\n",
    "# pandas read_sql (pass in query and engine)"
   ]
  },
  {
   "cell_type": "code",
   "execution_count": null,
   "id": "7d2333ac",
   "metadata": {},
   "outputs": [],
   "source": []
  }
 ],
 "metadata": {
  "kernelspec": {
   "display_name": "PythonData",
   "language": "python",
   "name": "pythondata"
  },
  "language_info": {
   "codemirror_mode": {
    "name": "ipython",
    "version": 3
   },
   "file_extension": ".py",
   "mimetype": "text/x-python",
   "name": "python",
   "nbconvert_exporter": "python",
   "pygments_lexer": "ipython3",
   "version": "3.7.13"
  }
 },
 "nbformat": 4,
 "nbformat_minor": 5
}
