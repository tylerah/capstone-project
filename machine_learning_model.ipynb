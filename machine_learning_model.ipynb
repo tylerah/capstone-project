{
 "cells": [
  {
   "cell_type": "code",
   "execution_count": 1,
   "id": "073e1ce9",
   "metadata": {},
   "outputs": [],
   "source": [
    "# import dependencies\n",
    "import pandas as pd\n",
    "from sklearn.ensemble import RandomForestClassifier\n",
    "from sklearn.preprocessing import StandardScaler\n",
    "from sklearn.model_selection import train_test_split\n",
    "from sklearn.metrics import confusion_matrix, accuracy_score, classification_report"
   ]
  },
  {
   "cell_type": "code",
   "execution_count": 2,
   "id": "37dbd2de",
   "metadata": {
    "scrolled": true
   },
   "outputs": [
    {
     "name": "stderr",
     "output_type": "stream",
     "text": [
      "C:\\Users\\ibjor\\anaconda3\\envs\\mlenv\\lib\\site-packages\\IPython\\core\\interactiveshell.py:3457: DtypeWarning: Columns (2,3) have mixed types.Specify dtype option on import or set low_memory=False.\n",
      "  exec(code_obj, self.user_global_ns, self.user_ns)\n"
     ]
    },
    {
     "data": {
      "text/html": [
       "<div>\n",
       "<style scoped>\n",
       "    .dataframe tbody tr th:only-of-type {\n",
       "        vertical-align: middle;\n",
       "    }\n",
       "\n",
       "    .dataframe tbody tr th {\n",
       "        vertical-align: top;\n",
       "    }\n",
       "\n",
       "    .dataframe thead th {\n",
       "        text-align: right;\n",
       "    }\n",
       "</style>\n",
       "<table border=\"1\" class=\"dataframe\">\n",
       "  <thead>\n",
       "    <tr style=\"text-align: right;\">\n",
       "      <th></th>\n",
       "      <th>raceeth</th>\n",
       "      <th>q6orig</th>\n",
       "      <th>q7orig</th>\n",
       "      <th>record</th>\n",
       "      <th>q1</th>\n",
       "      <th>q2</th>\n",
       "      <th>q3</th>\n",
       "      <th>q4</th>\n",
       "      <th>q6</th>\n",
       "      <th>q7</th>\n",
       "      <th>...</th>\n",
       "      <th>q99</th>\n",
       "      <th>BMIPCT</th>\n",
       "      <th>weight</th>\n",
       "      <th>stratum</th>\n",
       "      <th>psu</th>\n",
       "      <th>white</th>\n",
       "      <th>AIN</th>\n",
       "      <th>asian</th>\n",
       "      <th>black</th>\n",
       "      <th>PI</th>\n",
       "    </tr>\n",
       "  </thead>\n",
       "  <tbody>\n",
       "    <tr>\n",
       "      <th>0</th>\n",
       "      <td>7.0</td>\n",
       "      <td>504.0</td>\n",
       "      <td>121.0</td>\n",
       "      <td>1.0</td>\n",
       "      <td>5.0</td>\n",
       "      <td>2.0</td>\n",
       "      <td>2.0</td>\n",
       "      <td>1.0</td>\n",
       "      <td>1.63</td>\n",
       "      <td>54.89</td>\n",
       "      <td>...</td>\n",
       "      <td>1.0</td>\n",
       "      <td>46.88</td>\n",
       "      <td>1.66</td>\n",
       "      <td>213.0</td>\n",
       "      <td>57923.0</td>\n",
       "      <td>0</td>\n",
       "      <td>1</td>\n",
       "      <td>0</td>\n",
       "      <td>0</td>\n",
       "      <td>0</td>\n",
       "    </tr>\n",
       "    <tr>\n",
       "      <th>1</th>\n",
       "      <td>8.0</td>\n",
       "      <td>503.0</td>\n",
       "      <td>119.0</td>\n",
       "      <td>2.0</td>\n",
       "      <td>4.0</td>\n",
       "      <td>2.0</td>\n",
       "      <td>2.0</td>\n",
       "      <td>2.0</td>\n",
       "      <td>1.60</td>\n",
       "      <td>53.98</td>\n",
       "      <td>...</td>\n",
       "      <td>1.0</td>\n",
       "      <td>62.23</td>\n",
       "      <td>1.38</td>\n",
       "      <td>213.0</td>\n",
       "      <td>57923.0</td>\n",
       "      <td>0</td>\n",
       "      <td>1</td>\n",
       "      <td>0</td>\n",
       "      <td>0</td>\n",
       "      <td>1</td>\n",
       "    </tr>\n",
       "    <tr>\n",
       "      <th>2</th>\n",
       "      <td>8.0</td>\n",
       "      <td>506.0</td>\n",
       "      <td>95.0</td>\n",
       "      <td>3.0</td>\n",
       "      <td>4.0</td>\n",
       "      <td>1.0</td>\n",
       "      <td>2.0</td>\n",
       "      <td>2.0</td>\n",
       "      <td>1.68</td>\n",
       "      <td>43.09</td>\n",
       "      <td>...</td>\n",
       "      <td>1.0</td>\n",
       "      <td>0.59</td>\n",
       "      <td>1.49</td>\n",
       "      <td>213.0</td>\n",
       "      <td>57923.0</td>\n",
       "      <td>1</td>\n",
       "      <td>0</td>\n",
       "      <td>1</td>\n",
       "      <td>0</td>\n",
       "      <td>0</td>\n",
       "    </tr>\n",
       "    <tr>\n",
       "      <th>3</th>\n",
       "      <td>5.0</td>\n",
       "      <td>510.0</td>\n",
       "      <td>152.0</td>\n",
       "      <td>4.0</td>\n",
       "      <td>4.0</td>\n",
       "      <td>2.0</td>\n",
       "      <td>2.0</td>\n",
       "      <td>2.0</td>\n",
       "      <td>1.78</td>\n",
       "      <td>68.95</td>\n",
       "      <td>...</td>\n",
       "      <td>1.0</td>\n",
       "      <td>69.78</td>\n",
       "      <td>1.71</td>\n",
       "      <td>213.0</td>\n",
       "      <td>57923.0</td>\n",
       "      <td>1</td>\n",
       "      <td>0</td>\n",
       "      <td>0</td>\n",
       "      <td>0</td>\n",
       "      <td>0</td>\n",
       "    </tr>\n",
       "    <tr>\n",
       "      <th>4</th>\n",
       "      <td>6.0</td>\n",
       "      <td>510.0</td>\n",
       "      <td>130.0</td>\n",
       "      <td>5.0</td>\n",
       "      <td>5.0</td>\n",
       "      <td>2.0</td>\n",
       "      <td>2.0</td>\n",
       "      <td>1.0</td>\n",
       "      <td>1.78</td>\n",
       "      <td>58.97</td>\n",
       "      <td>...</td>\n",
       "      <td>2.0</td>\n",
       "      <td>16.73</td>\n",
       "      <td>1.66</td>\n",
       "      <td>213.0</td>\n",
       "      <td>57923.0</td>\n",
       "      <td>0</td>\n",
       "      <td>0</td>\n",
       "      <td>0</td>\n",
       "      <td>0</td>\n",
       "      <td>0</td>\n",
       "    </tr>\n",
       "  </tbody>\n",
       "</table>\n",
       "<p>5 rows × 111 columns</p>\n",
       "</div>"
      ],
      "text/plain": [
       "   raceeth q6orig q7orig  record   q1   q2   q3   q4    q6     q7  ...  q99  \\\n",
       "0      7.0  504.0  121.0     1.0  5.0  2.0  2.0  1.0  1.63  54.89  ...  1.0   \n",
       "1      8.0  503.0  119.0     2.0  4.0  2.0  2.0  2.0  1.60  53.98  ...  1.0   \n",
       "2      8.0  506.0   95.0     3.0  4.0  1.0  2.0  2.0  1.68  43.09  ...  1.0   \n",
       "3      5.0  510.0  152.0     4.0  4.0  2.0  2.0  2.0  1.78  68.95  ...  1.0   \n",
       "4      6.0  510.0  130.0     5.0  5.0  2.0  2.0  1.0  1.78  58.97  ...  2.0   \n",
       "\n",
       "   BMIPCT  weight  stratum      psu  white  AIN  asian  black  PI  \n",
       "0   46.88    1.66    213.0  57923.0      0    1      0      0   0  \n",
       "1   62.23    1.38    213.0  57923.0      0    1      0      0   1  \n",
       "2    0.59    1.49    213.0  57923.0      1    0      1      0   0  \n",
       "3   69.78    1.71    213.0  57923.0      1    0      0      0   0  \n",
       "4   16.73    1.66    213.0  57923.0      0    0      0      0   0  \n",
       "\n",
       "[5 rows x 111 columns]"
      ]
     },
     "execution_count": 2,
     "metadata": {},
     "output_type": "execute_result"
    }
   ],
   "source": [
    "# load in processed data\n",
    "file_path = 'data_pad.csv' #interpolate_method_1\n",
    "df_survey = pd.read_csv(file_path)\n",
    "df_survey.drop(columns='Unnamed: 0', inplace=True)\n",
    "df_survey.head()"
   ]
  },
  {
   "cell_type": "code",
   "execution_count": 3,
   "id": "9c60d9bb",
   "metadata": {},
   "outputs": [],
   "source": [
    "# removing unneeded columns\n",
    "df_survey['q6orig'] = pd.to_numeric(df_survey['q6orig'],errors='coerce')\n",
    "df_survey['q7orig'] = pd.to_numeric(df_survey['q7orig'],errors='coerce')\n",
    "df_survey.drop(columns=['q6orig', 'q7orig'], inplace=True)\n",
    "# dropping question 29 since it seems to rely on question 28\n",
    "df_survey.drop(columns=['q29'], inplace=True)\n",
    "# Dropping record column\n",
    "df_survey.drop(columns=['record'], inplace=True)"
   ]
  },
  {
   "cell_type": "code",
   "execution_count": 4,
   "id": "5078ccf9",
   "metadata": {},
   "outputs": [
    {
     "name": "stdout",
     "output_type": "stream",
     "text": [
      "1.0\n",
      "0.0\n"
     ]
    }
   ],
   "source": [
    "# target standardization\n",
    "df_survey.loc[df_survey['q28'] > 0, 'q28'] = 1\n",
    "print(df_survey['q28'].max())\n",
    "print(df_survey['q28'].min())"
   ]
  },
  {
   "cell_type": "code",
   "execution_count": 5,
   "id": "304b9cab",
   "metadata": {},
   "outputs": [
    {
     "data": {
      "text/plain": [
       "raceeth    float64\n",
       "q1         float64\n",
       "q2         float64\n",
       "q3         float64\n",
       "q4         float64\n",
       "            ...   \n",
       "white        int64\n",
       "AIN          int64\n",
       "asian        int64\n",
       "black        int64\n",
       "PI           int64\n",
       "Length: 107, dtype: object"
      ]
     },
     "execution_count": 5,
     "metadata": {},
     "output_type": "execute_result"
    }
   ],
   "source": [
    "# checking column types\n",
    "df_survey.dtypes"
   ]
  },
  {
   "cell_type": "code",
   "execution_count": 6,
   "id": "4199001e",
   "metadata": {},
   "outputs": [
    {
     "data": {
      "text/html": [
       "<div>\n",
       "<style scoped>\n",
       "    .dataframe tbody tr th:only-of-type {\n",
       "        vertical-align: middle;\n",
       "    }\n",
       "\n",
       "    .dataframe tbody tr th {\n",
       "        vertical-align: top;\n",
       "    }\n",
       "\n",
       "    .dataframe thead th {\n",
       "        text-align: right;\n",
       "    }\n",
       "</style>\n",
       "<table border=\"1\" class=\"dataframe\">\n",
       "  <thead>\n",
       "    <tr style=\"text-align: right;\">\n",
       "      <th></th>\n",
       "    </tr>\n",
       "  </thead>\n",
       "  <tbody>\n",
       "    <tr>\n",
       "      <th>0</th>\n",
       "    </tr>\n",
       "    <tr>\n",
       "      <th>1</th>\n",
       "    </tr>\n",
       "    <tr>\n",
       "      <th>2</th>\n",
       "    </tr>\n",
       "    <tr>\n",
       "      <th>3</th>\n",
       "    </tr>\n",
       "    <tr>\n",
       "      <th>4</th>\n",
       "    </tr>\n",
       "  </tbody>\n",
       "</table>\n",
       "</div>"
      ],
      "text/plain": [
       "Empty DataFrame\n",
       "Columns: []\n",
       "Index: [0, 1, 2, 3, 4]"
      ]
     },
     "execution_count": 6,
     "metadata": {},
     "output_type": "execute_result"
    }
   ],
   "source": [
    "df_survey.select_dtypes('object').head()"
   ]
  },
  {
   "cell_type": "code",
   "execution_count": 7,
   "id": "2fda44dc",
   "metadata": {},
   "outputs": [],
   "source": [
    "# temporarily drop nas\n",
    "# df_survey.dropna().head()"
   ]
  },
  {
   "cell_type": "code",
   "execution_count": 8,
   "id": "52404a7e",
   "metadata": {},
   "outputs": [],
   "source": [
    "# defining features\n",
    "X = df_survey.copy()\n",
    "X = X.drop('q28', axis=1)"
   ]
  },
  {
   "cell_type": "code",
   "execution_count": 9,
   "id": "b646e2b2",
   "metadata": {},
   "outputs": [
    {
     "data": {
      "text/plain": [
       "array([1., 1., 1., 1., 1.])"
      ]
     },
     "execution_count": 9,
     "metadata": {},
     "output_type": "execute_result"
    }
   ],
   "source": [
    "# defining target\n",
    "y = df_survey['q28'].ravel()\n",
    "y[:5]"
   ]
  },
  {
   "cell_type": "code",
   "execution_count": 10,
   "id": "09afa6fe",
   "metadata": {},
   "outputs": [],
   "source": [
    "# split the data into training and testing sets\n",
    "X_train, X_test, y_train, y_test = train_test_split(X, y, random_state=78)"
   ]
  },
  {
   "cell_type": "code",
   "execution_count": 11,
   "id": "58eaa9a9",
   "metadata": {},
   "outputs": [],
   "source": [
    "# scale the data\n",
    "scaler = StandardScaler()\n",
    "X_scaler = scaler.fit(X_train)\n",
    "X_train_scaled = X_scaler.transform(X_train)\n",
    "X_test_scaled = X_scaler.transform(X_test)"
   ]
  },
  {
   "cell_type": "code",
   "execution_count": 12,
   "id": "d8f06841",
   "metadata": {},
   "outputs": [],
   "source": [
    "# create the random forest classifier\n",
    "rf_model = RandomForestClassifier(n_estimators=128, random_state=78)"
   ]
  },
  {
   "cell_type": "code",
   "execution_count": 13,
   "id": "cd8d5fbc",
   "metadata": {},
   "outputs": [],
   "source": [
    "# fit the model\n",
    "rf_model = rf_model.fit(X_train_scaled, y_train)"
   ]
  },
  {
   "cell_type": "code",
   "execution_count": 14,
   "id": "eba7d9b4",
   "metadata": {},
   "outputs": [],
   "source": [
    "# make predictions\n",
    "predictions = rf_model.predict(X_test_scaled)"
   ]
  },
  {
   "cell_type": "code",
   "execution_count": 15,
   "id": "142eff40",
   "metadata": {},
   "outputs": [
    {
     "data": {
      "text/html": [
       "<div>\n",
       "<style scoped>\n",
       "    .dataframe tbody tr th:only-of-type {\n",
       "        vertical-align: middle;\n",
       "    }\n",
       "\n",
       "    .dataframe tbody tr th {\n",
       "        vertical-align: top;\n",
       "    }\n",
       "\n",
       "    .dataframe thead th {\n",
       "        text-align: right;\n",
       "    }\n",
       "</style>\n",
       "<table border=\"1\" class=\"dataframe\">\n",
       "  <thead>\n",
       "    <tr style=\"text-align: right;\">\n",
       "      <th></th>\n",
       "      <th>Predicted False</th>\n",
       "      <th>Predicted True</th>\n",
       "    </tr>\n",
       "  </thead>\n",
       "  <tbody>\n",
       "    <tr>\n",
       "      <th>Actual False</th>\n",
       "      <td>515</td>\n",
       "      <td>299</td>\n",
       "    </tr>\n",
       "    <tr>\n",
       "      <th>Actual True</th>\n",
       "      <td>10</td>\n",
       "      <td>2596</td>\n",
       "    </tr>\n",
       "  </tbody>\n",
       "</table>\n",
       "</div>"
      ],
      "text/plain": [
       "              Predicted False  Predicted True\n",
       "Actual False              515             299\n",
       "Actual True                10            2596"
      ]
     },
     "execution_count": 15,
     "metadata": {},
     "output_type": "execute_result"
    }
   ],
   "source": [
    "# calculate confusion matrix\n",
    "cm = confusion_matrix(y_test, predictions)\n",
    "cm_df = pd.DataFrame(\n",
    "    cm, index=['Actual False', 'Actual True'], columns=['Predicted False', 'Predicted True']\n",
    "    )\n",
    "cm_df"
   ]
  },
  {
   "cell_type": "code",
   "execution_count": 16,
   "id": "10e94804",
   "metadata": {},
   "outputs": [
    {
     "name": "stdout",
     "output_type": "stream",
     "text": [
      "CONFUSION MATRIX\n"
     ]
    },
    {
     "data": {
      "text/html": [
       "<div>\n",
       "<style scoped>\n",
       "    .dataframe tbody tr th:only-of-type {\n",
       "        vertical-align: middle;\n",
       "    }\n",
       "\n",
       "    .dataframe tbody tr th {\n",
       "        vertical-align: top;\n",
       "    }\n",
       "\n",
       "    .dataframe thead th {\n",
       "        text-align: right;\n",
       "    }\n",
       "</style>\n",
       "<table border=\"1\" class=\"dataframe\">\n",
       "  <thead>\n",
       "    <tr style=\"text-align: right;\">\n",
       "      <th></th>\n",
       "      <th>Predicted False</th>\n",
       "      <th>Predicted True</th>\n",
       "    </tr>\n",
       "  </thead>\n",
       "  <tbody>\n",
       "    <tr>\n",
       "      <th>Actual False</th>\n",
       "      <td>515</td>\n",
       "      <td>299</td>\n",
       "    </tr>\n",
       "    <tr>\n",
       "      <th>Actual True</th>\n",
       "      <td>10</td>\n",
       "      <td>2596</td>\n",
       "    </tr>\n",
       "  </tbody>\n",
       "</table>\n",
       "</div>"
      ],
      "text/plain": [
       "              Predicted False  Predicted True\n",
       "Actual False              515             299\n",
       "Actual True                10            2596"
      ]
     },
     "metadata": {},
     "output_type": "display_data"
    },
    {
     "name": "stdout",
     "output_type": "stream",
     "text": [
      "CLASSIFICATION REPORT\n",
      "              precision    recall  f1-score   support\n",
      "\n",
      "         0.0       0.98      0.63      0.77       814\n",
      "         1.0       0.90      1.00      0.94      2606\n",
      "\n",
      "    accuracy                           0.91      3420\n",
      "   macro avg       0.94      0.81      0.86      3420\n",
      "weighted avg       0.92      0.91      0.90      3420\n",
      "\n"
     ]
    }
   ],
   "source": [
    "# display results\n",
    "print('CONFUSION MATRIX')\n",
    "display(cm_df)\n",
    "print('CLASSIFICATION REPORT')\n",
    "print(classification_report(y_test, predictions))"
   ]
  },
  {
   "cell_type": "code",
   "execution_count": 17,
   "id": "782b02e7",
   "metadata": {},
   "outputs": [
    {
     "data": {
      "text/plain": [
       "[(0.0656737186805402, 'q65'),\n",
       " (0.06034285796485131, 'q8'),\n",
       " (0.05317625031046816, 'q33'),\n",
       " (0.04894958461285657, 'q19'),\n",
       " (0.04108209976742026, 'q17'),\n",
       " (0.02823228268552291, 'q51'),\n",
       " (0.02774480966616233, 'q93'),\n",
       " (0.027731250195055204, 'q12'),\n",
       " (0.024919072896693976, 'q21'),\n",
       " (0.0240721719726378, 'q39'),\n",
       " (0.02204971778840254, 'psu'),\n",
       " (0.021207138337438546, 'q30'),\n",
       " (0.018426182167009007, 'stratum'),\n",
       " (0.018234934753128505, 'q20'),\n",
       " (0.01783584992695716, 'q14'),\n",
       " (0.017393375509005642, 'q44'),\n",
       " (0.01445726835679695, 'q68'),\n",
       " (0.014368714973319393, 'q92'),\n",
       " (0.014058485341178881, 'weight'),\n",
       " (0.01268179046715655, 'q85'),\n",
       " (0.012326121349487379, 'q74'),\n",
       " (0.011627150313049698, 'BMIPCT'),\n",
       " (0.011310608494041488, 'q97'),\n",
       " (0.010438875755852325, 'q7'),\n",
       " (0.009318499907096952, 'q6'),\n",
       " (0.009185868592067454, 'q82'),\n",
       " (0.008722650600675529, 'q76'),\n",
       " (0.008231721806905947, 'q26'),\n",
       " (0.00817311277492734, 'q88'),\n",
       " (0.007617969617467362, 'q71'),\n",
       " (0.007617282035447217, 'q69'),\n",
       " (0.007566724990360664, 'q95'),\n",
       " (0.007505938106312603, 'q75'),\n",
       " (0.0074116957089231965, 'q91'),\n",
       " (0.007383418001937429, 'q27'),\n",
       " (0.007302619030130217, 'q73'),\n",
       " (0.007194818525433148, 'q89'),\n",
       " (0.007115576029687468, 'q40'),\n",
       " (0.0068604544695149185, 'q11'),\n",
       " (0.006859319087586678, 'q50'),\n",
       " (0.006842045594105639, 'q31'),\n",
       " (0.006662759132883727, 'q43'),\n",
       " (0.006639288802223643, 'q80'),\n",
       " (0.006523496651607171, 'q79'),\n",
       " (0.006502230469605013, 'q77'),\n",
       " (0.005982366706583866, 'q78'),\n",
       " (0.005904205537521994, 'q70'),\n",
       " (0.005808664572076543, 'q67'),\n",
       " (0.005727836397991344, 'raceeth'),\n",
       " (0.005698593978163726, 'q1'),\n",
       " (0.005511526737105088, 'q72'),\n",
       " (0.005502365797159922, 'q56'),\n",
       " (0.005415632838048903, 'q48'),\n",
       " (0.005148930744867574, 'q81'),\n",
       " (0.005085808857381627, 'q61'),\n",
       " (0.005009222761433857, 'q99'),\n",
       " (0.0049503314855980154, 'q36'),\n",
       " (0.004896949233237447, 'q46'),\n",
       " (0.0048345395361309, 'q64'),\n",
       " (0.004821919175467305, 'q60'),\n",
       " (0.004805000937491242, 'q22'),\n",
       " (0.0047444758912882435, 'q3'),\n",
       " (0.004692775595401489, 'q86'),\n",
       " (0.004680775362473871, 'q41'),\n",
       " (0.004617664803676469, 'q90'),\n",
       " (0.004478514373903743, 'q83'),\n",
       " (0.004383403131792936, 'q94'),\n",
       " (0.004326004396486202, 'white'),\n",
       " (0.004303869545449867, 'q98'),\n",
       " (0.004232262478918285, 'q66'),\n",
       " (0.004203300600024756, 'q24'),\n",
       " (0.004178164181672745, 'q35'),\n",
       " (0.0041083592603718, 'q55'),\n",
       " (0.0040524578874322785, 'q59'),\n",
       " (0.003963987553442397, 'q10'),\n",
       " (0.003900878747169205, 'q96'),\n",
       " (0.003882069384465032, 'q45'),\n",
       " (0.0038647891443299403, 'q23'),\n",
       " (0.0038580976232637006, 'q25'),\n",
       " (0.003814874567425888, 'q34'),\n",
       " (0.0035715571850725896, 'q47'),\n",
       " (0.0035419696359742323, 'q63'),\n",
       " (0.003459845212679407, 'q18'),\n",
       " (0.0032660215903942413, 'q42'),\n",
       " (0.0031408372283814358, 'q62'),\n",
       " (0.003034457919599707, 'q84'),\n",
       " (0.0026890414969884284, 'q87'),\n",
       " (0.0025999145061316505, 'q9'),\n",
       " (0.002573435025587122, 'q49'),\n",
       " (0.0025596216953498066, 'q15'),\n",
       " (0.0024339684997121106, 'q4'),\n",
       " (0.002281831822623165, 'q54'),\n",
       " (0.0022755166075177843, 'black'),\n",
       " (0.002186082785656535, 'q32'),\n",
       " (0.0021581918235013373, 'q38'),\n",
       " (0.002110694017138206, 'q57'),\n",
       " (0.0020861544011217233, 'q2'),\n",
       " (0.0020559037063891034, 'q58'),\n",
       " (0.0020551930076275894, 'q52'),\n",
       " (0.0018922919987539265, 'q16'),\n",
       " (0.0017402369341231502, 'q37'),\n",
       " (0.0016791441443031359, 'q13'),\n",
       " (0.0012029252922992992, 'q53'),\n",
       " (0.0009481690228178785, 'AIN'),\n",
       " (0.0008862151953441687, 'asian'),\n",
       " (0.0006023571997321235, 'PI')]"
      ]
     },
     "execution_count": 17,
     "metadata": {},
     "output_type": "execute_result"
    }
   ],
   "source": [
    "# calculate feature importance \n",
    "importances = sorted(zip(rf_model.feature_importances_, X.columns), reverse=True)\n",
    "importances"
   ]
  },
  {
   "cell_type": "code",
   "execution_count": 22,
   "id": "b396f9b1",
   "metadata": {},
   "outputs": [],
   "source": [
    "importances = pd.Series(importances)\n",
    "importances.to_csv('feature_importance.csv', index=False, header=False)"
   ]
  }
 ],
 "metadata": {
  "kernelspec": {
   "display_name": "mlenv",
   "language": "python",
   "name": "mlenv"
  },
  "language_info": {
   "codemirror_mode": {
    "name": "ipython",
    "version": 3
   },
   "file_extension": ".py",
   "mimetype": "text/x-python",
   "name": "python",
   "nbconvert_exporter": "python",
   "pygments_lexer": "ipython3",
   "version": "3.7.13"
  }
 },
 "nbformat": 4,
 "nbformat_minor": 5
}
