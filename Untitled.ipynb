{
 "cells": [
  {
   "cell_type": "code",
   "execution_count": 1,
   "id": "073e1ce9",
   "metadata": {},
   "outputs": [],
   "source": [
    "# import dependencies\n",
    "import pandas as pd\n",
    "from sklearn.ensemble import RandomForestClassifier\n",
    "from sklearn.preprocessing import StandardScaler\n",
    "from sklearn.model_selection import train_test_split\n",
    "from sklearn.metrics import confusion_matrix, accuracy_score, classification_report"
   ]
  },
  {
   "cell_type": "code",
   "execution_count": 2,
   "id": "37dbd2de",
   "metadata": {
    "scrolled": true
   },
   "outputs": [
    {
     "name": "stderr",
     "output_type": "stream",
     "text": [
      "C:\\Users\\ibjor\\anaconda3\\envs\\mlenv\\lib\\site-packages\\IPython\\core\\interactiveshell.py:3457: DtypeWarning: Columns (2,3) have mixed types.Specify dtype option on import or set low_memory=False.\n",
      "  exec(code_obj, self.user_global_ns, self.user_ns)\n"
     ]
    },
    {
     "data": {
      "text/html": [
       "<div>\n",
       "<style scoped>\n",
       "    .dataframe tbody tr th:only-of-type {\n",
       "        vertical-align: middle;\n",
       "    }\n",
       "\n",
       "    .dataframe tbody tr th {\n",
       "        vertical-align: top;\n",
       "    }\n",
       "\n",
       "    .dataframe thead th {\n",
       "        text-align: right;\n",
       "    }\n",
       "</style>\n",
       "<table border=\"1\" class=\"dataframe\">\n",
       "  <thead>\n",
       "    <tr style=\"text-align: right;\">\n",
       "      <th></th>\n",
       "      <th>raceeth</th>\n",
       "      <th>q6orig</th>\n",
       "      <th>q7orig</th>\n",
       "      <th>record</th>\n",
       "      <th>q1</th>\n",
       "      <th>q2</th>\n",
       "      <th>q3</th>\n",
       "      <th>q4</th>\n",
       "      <th>q6</th>\n",
       "      <th>q7</th>\n",
       "      <th>...</th>\n",
       "      <th>q99</th>\n",
       "      <th>BMIPCT</th>\n",
       "      <th>weight</th>\n",
       "      <th>stratum</th>\n",
       "      <th>psu</th>\n",
       "      <th>white</th>\n",
       "      <th>AIN</th>\n",
       "      <th>asian</th>\n",
       "      <th>black</th>\n",
       "      <th>PI</th>\n",
       "    </tr>\n",
       "  </thead>\n",
       "  <tbody>\n",
       "    <tr>\n",
       "      <th>0</th>\n",
       "      <td>7.0</td>\n",
       "      <td>504.0</td>\n",
       "      <td>121.0</td>\n",
       "      <td>1.0</td>\n",
       "      <td>5.0</td>\n",
       "      <td>2.0</td>\n",
       "      <td>2.0</td>\n",
       "      <td>1.0</td>\n",
       "      <td>1.63</td>\n",
       "      <td>54.89</td>\n",
       "      <td>...</td>\n",
       "      <td>1.0</td>\n",
       "      <td>46.88</td>\n",
       "      <td>1.66</td>\n",
       "      <td>213.0</td>\n",
       "      <td>57923.0</td>\n",
       "      <td>0</td>\n",
       "      <td>1</td>\n",
       "      <td>0</td>\n",
       "      <td>0</td>\n",
       "      <td>0</td>\n",
       "    </tr>\n",
       "    <tr>\n",
       "      <th>1</th>\n",
       "      <td>8.0</td>\n",
       "      <td>503.0</td>\n",
       "      <td>119.0</td>\n",
       "      <td>2.0</td>\n",
       "      <td>4.0</td>\n",
       "      <td>2.0</td>\n",
       "      <td>2.0</td>\n",
       "      <td>2.0</td>\n",
       "      <td>1.60</td>\n",
       "      <td>53.98</td>\n",
       "      <td>...</td>\n",
       "      <td>1.0</td>\n",
       "      <td>62.23</td>\n",
       "      <td>1.38</td>\n",
       "      <td>213.0</td>\n",
       "      <td>57923.0</td>\n",
       "      <td>0</td>\n",
       "      <td>1</td>\n",
       "      <td>0</td>\n",
       "      <td>0</td>\n",
       "      <td>1</td>\n",
       "    </tr>\n",
       "    <tr>\n",
       "      <th>2</th>\n",
       "      <td>8.0</td>\n",
       "      <td>506.0</td>\n",
       "      <td>95.0</td>\n",
       "      <td>3.0</td>\n",
       "      <td>4.0</td>\n",
       "      <td>1.0</td>\n",
       "      <td>2.0</td>\n",
       "      <td>2.0</td>\n",
       "      <td>1.68</td>\n",
       "      <td>43.09</td>\n",
       "      <td>...</td>\n",
       "      <td>1.0</td>\n",
       "      <td>0.59</td>\n",
       "      <td>1.49</td>\n",
       "      <td>213.0</td>\n",
       "      <td>57923.0</td>\n",
       "      <td>1</td>\n",
       "      <td>0</td>\n",
       "      <td>1</td>\n",
       "      <td>0</td>\n",
       "      <td>0</td>\n",
       "    </tr>\n",
       "    <tr>\n",
       "      <th>3</th>\n",
       "      <td>5.0</td>\n",
       "      <td>510.0</td>\n",
       "      <td>152.0</td>\n",
       "      <td>4.0</td>\n",
       "      <td>4.0</td>\n",
       "      <td>2.0</td>\n",
       "      <td>2.0</td>\n",
       "      <td>2.0</td>\n",
       "      <td>1.78</td>\n",
       "      <td>68.95</td>\n",
       "      <td>...</td>\n",
       "      <td>1.0</td>\n",
       "      <td>69.78</td>\n",
       "      <td>1.71</td>\n",
       "      <td>213.0</td>\n",
       "      <td>57923.0</td>\n",
       "      <td>1</td>\n",
       "      <td>0</td>\n",
       "      <td>0</td>\n",
       "      <td>0</td>\n",
       "      <td>0</td>\n",
       "    </tr>\n",
       "    <tr>\n",
       "      <th>4</th>\n",
       "      <td>6.0</td>\n",
       "      <td>510.0</td>\n",
       "      <td>130.0</td>\n",
       "      <td>5.0</td>\n",
       "      <td>5.0</td>\n",
       "      <td>2.0</td>\n",
       "      <td>2.0</td>\n",
       "      <td>1.0</td>\n",
       "      <td>1.78</td>\n",
       "      <td>58.97</td>\n",
       "      <td>...</td>\n",
       "      <td>2.0</td>\n",
       "      <td>16.73</td>\n",
       "      <td>1.66</td>\n",
       "      <td>213.0</td>\n",
       "      <td>57923.0</td>\n",
       "      <td>0</td>\n",
       "      <td>0</td>\n",
       "      <td>0</td>\n",
       "      <td>0</td>\n",
       "      <td>0</td>\n",
       "    </tr>\n",
       "  </tbody>\n",
       "</table>\n",
       "<p>5 rows × 111 columns</p>\n",
       "</div>"
      ],
      "text/plain": [
       "   raceeth q6orig q7orig  record   q1   q2   q3   q4    q6     q7  ...  q99  \\\n",
       "0      7.0  504.0  121.0     1.0  5.0  2.0  2.0  1.0  1.63  54.89  ...  1.0   \n",
       "1      8.0  503.0  119.0     2.0  4.0  2.0  2.0  2.0  1.60  53.98  ...  1.0   \n",
       "2      8.0  506.0   95.0     3.0  4.0  1.0  2.0  2.0  1.68  43.09  ...  1.0   \n",
       "3      5.0  510.0  152.0     4.0  4.0  2.0  2.0  2.0  1.78  68.95  ...  1.0   \n",
       "4      6.0  510.0  130.0     5.0  5.0  2.0  2.0  1.0  1.78  58.97  ...  2.0   \n",
       "\n",
       "   BMIPCT  weight  stratum      psu  white  AIN  asian  black  PI  \n",
       "0   46.88    1.66    213.0  57923.0      0    1      0      0   0  \n",
       "1   62.23    1.38    213.0  57923.0      0    1      0      0   1  \n",
       "2    0.59    1.49    213.0  57923.0      1    0      1      0   0  \n",
       "3   69.78    1.71    213.0  57923.0      1    0      0      0   0  \n",
       "4   16.73    1.66    213.0  57923.0      0    0      0      0   0  \n",
       "\n",
       "[5 rows x 111 columns]"
      ]
     },
     "execution_count": 2,
     "metadata": {},
     "output_type": "execute_result"
    }
   ],
   "source": [
    "# load in processed data\n",
    "file_path = 'data_pad.csv' #interpolate_method_1\n",
    "df_survey = pd.read_csv(file_path)\n",
    "df_survey.drop(columns='Unnamed: 0', inplace=True)\n",
    "df_survey.head()"
   ]
  },
  {
   "cell_type": "code",
   "execution_count": 3,
   "id": "5078ccf9",
   "metadata": {},
   "outputs": [
    {
     "name": "stdout",
     "output_type": "stream",
     "text": [
      "1.0\n",
      "0.0\n"
     ]
    }
   ],
   "source": [
    "# target cleanup\n",
    "df_survey.loc[df_survey['q28'] > 0, 'q28'] = 1\n",
    "print(df_survey['q28'].max())\n",
    "print(df_survey['q28'].min())"
   ]
  },
  {
   "cell_type": "code",
   "execution_count": 4,
   "id": "304b9cab",
   "metadata": {},
   "outputs": [
    {
     "data": {
      "text/plain": [
       "raceeth    float64\n",
       "q6orig      object\n",
       "q7orig      object\n",
       "record     float64\n",
       "q1         float64\n",
       "            ...   \n",
       "white        int64\n",
       "AIN          int64\n",
       "asian        int64\n",
       "black        int64\n",
       "PI           int64\n",
       "Length: 111, dtype: object"
      ]
     },
     "execution_count": 4,
     "metadata": {},
     "output_type": "execute_result"
    }
   ],
   "source": [
    "df_survey.dtypes"
   ]
  },
  {
   "cell_type": "code",
   "execution_count": 5,
   "id": "4199001e",
   "metadata": {},
   "outputs": [
    {
     "data": {
      "text/html": [
       "<div>\n",
       "<style scoped>\n",
       "    .dataframe tbody tr th:only-of-type {\n",
       "        vertical-align: middle;\n",
       "    }\n",
       "\n",
       "    .dataframe tbody tr th {\n",
       "        vertical-align: top;\n",
       "    }\n",
       "\n",
       "    .dataframe thead th {\n",
       "        text-align: right;\n",
       "    }\n",
       "</style>\n",
       "<table border=\"1\" class=\"dataframe\">\n",
       "  <thead>\n",
       "    <tr style=\"text-align: right;\">\n",
       "      <th></th>\n",
       "      <th>q6orig</th>\n",
       "      <th>q7orig</th>\n",
       "    </tr>\n",
       "  </thead>\n",
       "  <tbody>\n",
       "    <tr>\n",
       "      <th>0</th>\n",
       "      <td>504.0</td>\n",
       "      <td>121.0</td>\n",
       "    </tr>\n",
       "    <tr>\n",
       "      <th>1</th>\n",
       "      <td>503.0</td>\n",
       "      <td>119.0</td>\n",
       "    </tr>\n",
       "    <tr>\n",
       "      <th>2</th>\n",
       "      <td>506.0</td>\n",
       "      <td>95.0</td>\n",
       "    </tr>\n",
       "    <tr>\n",
       "      <th>3</th>\n",
       "      <td>510.0</td>\n",
       "      <td>152.0</td>\n",
       "    </tr>\n",
       "    <tr>\n",
       "      <th>4</th>\n",
       "      <td>510.0</td>\n",
       "      <td>130.0</td>\n",
       "    </tr>\n",
       "  </tbody>\n",
       "</table>\n",
       "</div>"
      ],
      "text/plain": [
       "  q6orig q7orig\n",
       "0  504.0  121.0\n",
       "1  503.0  119.0\n",
       "2  506.0   95.0\n",
       "3  510.0  152.0\n",
       "4  510.0  130.0"
      ]
     },
     "execution_count": 5,
     "metadata": {},
     "output_type": "execute_result"
    }
   ],
   "source": [
    "df_survey.select_dtypes('object').head()"
   ]
  },
  {
   "cell_type": "code",
   "execution_count": 6,
   "id": "da21bfe6",
   "metadata": {},
   "outputs": [],
   "source": [
    "df_survey['q6orig'] = pd.to_numeric(df_survey['q6orig'],errors='coerce')\n",
    "df_survey['q7orig'] = pd.to_numeric(df_survey['q7orig'],errors='coerce')\n",
    "df_survey.drop(columns=['q6orig', 'q7orig'], inplace=True)"
   ]
  },
  {
   "cell_type": "code",
   "execution_count": 7,
   "id": "6f2ddc0f",
   "metadata": {},
   "outputs": [
    {
     "data": {
      "text/html": [
       "<div>\n",
       "<style scoped>\n",
       "    .dataframe tbody tr th:only-of-type {\n",
       "        vertical-align: middle;\n",
       "    }\n",
       "\n",
       "    .dataframe tbody tr th {\n",
       "        vertical-align: top;\n",
       "    }\n",
       "\n",
       "    .dataframe thead th {\n",
       "        text-align: right;\n",
       "    }\n",
       "</style>\n",
       "<table border=\"1\" class=\"dataframe\">\n",
       "  <thead>\n",
       "    <tr style=\"text-align: right;\">\n",
       "      <th></th>\n",
       "    </tr>\n",
       "  </thead>\n",
       "  <tbody>\n",
       "    <tr>\n",
       "      <th>0</th>\n",
       "    </tr>\n",
       "    <tr>\n",
       "      <th>1</th>\n",
       "    </tr>\n",
       "    <tr>\n",
       "      <th>2</th>\n",
       "    </tr>\n",
       "    <tr>\n",
       "      <th>3</th>\n",
       "    </tr>\n",
       "    <tr>\n",
       "      <th>4</th>\n",
       "    </tr>\n",
       "  </tbody>\n",
       "</table>\n",
       "</div>"
      ],
      "text/plain": [
       "Empty DataFrame\n",
       "Columns: []\n",
       "Index: [0, 1, 2, 3, 4]"
      ]
     },
     "execution_count": 7,
     "metadata": {},
     "output_type": "execute_result"
    }
   ],
   "source": [
    "df_survey.select_dtypes('object').head()"
   ]
  },
  {
   "cell_type": "code",
   "execution_count": 8,
   "id": "2fda44dc",
   "metadata": {},
   "outputs": [
    {
     "data": {
      "text/html": [
       "<div>\n",
       "<style scoped>\n",
       "    .dataframe tbody tr th:only-of-type {\n",
       "        vertical-align: middle;\n",
       "    }\n",
       "\n",
       "    .dataframe tbody tr th {\n",
       "        vertical-align: top;\n",
       "    }\n",
       "\n",
       "    .dataframe thead th {\n",
       "        text-align: right;\n",
       "    }\n",
       "</style>\n",
       "<table border=\"1\" class=\"dataframe\">\n",
       "  <thead>\n",
       "    <tr style=\"text-align: right;\">\n",
       "      <th></th>\n",
       "      <th>raceeth</th>\n",
       "      <th>record</th>\n",
       "      <th>q1</th>\n",
       "      <th>q2</th>\n",
       "      <th>q3</th>\n",
       "      <th>q4</th>\n",
       "      <th>q6</th>\n",
       "      <th>q7</th>\n",
       "      <th>q8</th>\n",
       "      <th>q9</th>\n",
       "      <th>...</th>\n",
       "      <th>q99</th>\n",
       "      <th>BMIPCT</th>\n",
       "      <th>weight</th>\n",
       "      <th>stratum</th>\n",
       "      <th>psu</th>\n",
       "      <th>white</th>\n",
       "      <th>AIN</th>\n",
       "      <th>asian</th>\n",
       "      <th>black</th>\n",
       "      <th>PI</th>\n",
       "    </tr>\n",
       "  </thead>\n",
       "  <tbody>\n",
       "    <tr>\n",
       "      <th>0</th>\n",
       "      <td>7.0</td>\n",
       "      <td>1.0</td>\n",
       "      <td>5.0</td>\n",
       "      <td>2.0</td>\n",
       "      <td>2.0</td>\n",
       "      <td>1.0</td>\n",
       "      <td>1.63</td>\n",
       "      <td>54.89</td>\n",
       "      <td>4.0</td>\n",
       "      <td>1.0</td>\n",
       "      <td>...</td>\n",
       "      <td>1.0</td>\n",
       "      <td>46.88</td>\n",
       "      <td>1.66</td>\n",
       "      <td>213.0</td>\n",
       "      <td>57923.0</td>\n",
       "      <td>0</td>\n",
       "      <td>1</td>\n",
       "      <td>0</td>\n",
       "      <td>0</td>\n",
       "      <td>0</td>\n",
       "    </tr>\n",
       "    <tr>\n",
       "      <th>1</th>\n",
       "      <td>8.0</td>\n",
       "      <td>2.0</td>\n",
       "      <td>4.0</td>\n",
       "      <td>2.0</td>\n",
       "      <td>2.0</td>\n",
       "      <td>2.0</td>\n",
       "      <td>1.60</td>\n",
       "      <td>53.98</td>\n",
       "      <td>5.0</td>\n",
       "      <td>2.0</td>\n",
       "      <td>...</td>\n",
       "      <td>1.0</td>\n",
       "      <td>62.23</td>\n",
       "      <td>1.38</td>\n",
       "      <td>213.0</td>\n",
       "      <td>57923.0</td>\n",
       "      <td>0</td>\n",
       "      <td>1</td>\n",
       "      <td>0</td>\n",
       "      <td>0</td>\n",
       "      <td>1</td>\n",
       "    </tr>\n",
       "    <tr>\n",
       "      <th>2</th>\n",
       "      <td>8.0</td>\n",
       "      <td>3.0</td>\n",
       "      <td>4.0</td>\n",
       "      <td>1.0</td>\n",
       "      <td>2.0</td>\n",
       "      <td>2.0</td>\n",
       "      <td>1.68</td>\n",
       "      <td>43.09</td>\n",
       "      <td>4.0</td>\n",
       "      <td>1.0</td>\n",
       "      <td>...</td>\n",
       "      <td>1.0</td>\n",
       "      <td>0.59</td>\n",
       "      <td>1.49</td>\n",
       "      <td>213.0</td>\n",
       "      <td>57923.0</td>\n",
       "      <td>1</td>\n",
       "      <td>0</td>\n",
       "      <td>1</td>\n",
       "      <td>0</td>\n",
       "      <td>0</td>\n",
       "    </tr>\n",
       "    <tr>\n",
       "      <th>3</th>\n",
       "      <td>5.0</td>\n",
       "      <td>4.0</td>\n",
       "      <td>4.0</td>\n",
       "      <td>2.0</td>\n",
       "      <td>2.0</td>\n",
       "      <td>2.0</td>\n",
       "      <td>1.78</td>\n",
       "      <td>68.95</td>\n",
       "      <td>4.0</td>\n",
       "      <td>1.0</td>\n",
       "      <td>...</td>\n",
       "      <td>1.0</td>\n",
       "      <td>69.78</td>\n",
       "      <td>1.71</td>\n",
       "      <td>213.0</td>\n",
       "      <td>57923.0</td>\n",
       "      <td>1</td>\n",
       "      <td>0</td>\n",
       "      <td>0</td>\n",
       "      <td>0</td>\n",
       "      <td>0</td>\n",
       "    </tr>\n",
       "    <tr>\n",
       "      <th>4</th>\n",
       "      <td>6.0</td>\n",
       "      <td>5.0</td>\n",
       "      <td>5.0</td>\n",
       "      <td>2.0</td>\n",
       "      <td>2.0</td>\n",
       "      <td>1.0</td>\n",
       "      <td>1.78</td>\n",
       "      <td>58.97</td>\n",
       "      <td>4.0</td>\n",
       "      <td>1.0</td>\n",
       "      <td>...</td>\n",
       "      <td>2.0</td>\n",
       "      <td>16.73</td>\n",
       "      <td>1.66</td>\n",
       "      <td>213.0</td>\n",
       "      <td>57923.0</td>\n",
       "      <td>0</td>\n",
       "      <td>0</td>\n",
       "      <td>0</td>\n",
       "      <td>0</td>\n",
       "      <td>0</td>\n",
       "    </tr>\n",
       "  </tbody>\n",
       "</table>\n",
       "<p>5 rows × 109 columns</p>\n",
       "</div>"
      ],
      "text/plain": [
       "   raceeth  record   q1   q2   q3   q4    q6     q7   q8   q9  ...  q99  \\\n",
       "0      7.0     1.0  5.0  2.0  2.0  1.0  1.63  54.89  4.0  1.0  ...  1.0   \n",
       "1      8.0     2.0  4.0  2.0  2.0  2.0  1.60  53.98  5.0  2.0  ...  1.0   \n",
       "2      8.0     3.0  4.0  1.0  2.0  2.0  1.68  43.09  4.0  1.0  ...  1.0   \n",
       "3      5.0     4.0  4.0  2.0  2.0  2.0  1.78  68.95  4.0  1.0  ...  1.0   \n",
       "4      6.0     5.0  5.0  2.0  2.0  1.0  1.78  58.97  4.0  1.0  ...  2.0   \n",
       "\n",
       "   BMIPCT  weight  stratum      psu  white  AIN  asian  black  PI  \n",
       "0   46.88    1.66    213.0  57923.0      0    1      0      0   0  \n",
       "1   62.23    1.38    213.0  57923.0      0    1      0      0   1  \n",
       "2    0.59    1.49    213.0  57923.0      1    0      1      0   0  \n",
       "3   69.78    1.71    213.0  57923.0      1    0      0      0   0  \n",
       "4   16.73    1.66    213.0  57923.0      0    0      0      0   0  \n",
       "\n",
       "[5 rows x 109 columns]"
      ]
     },
     "execution_count": 8,
     "metadata": {},
     "output_type": "execute_result"
    }
   ],
   "source": [
    "# temporarily drop nas\n",
    "df_survey.dropna().head()"
   ]
  },
  {
   "cell_type": "code",
   "execution_count": 9,
   "id": "0e43f4fb",
   "metadata": {},
   "outputs": [],
   "source": [
    "# dropping question 29 since it seems to rely on question 28\n",
    "df_survey.drop(columns=['q29'], inplace=True)\n",
    "# Dropping record column\n",
    "df_survey.drop(columns=['record'], inplace=True)"
   ]
  },
  {
   "cell_type": "code",
   "execution_count": 10,
   "id": "52404a7e",
   "metadata": {},
   "outputs": [],
   "source": [
    "# defining features\n",
    "X = df_survey.copy()\n",
    "X = X.drop('q28', axis=1)"
   ]
  },
  {
   "cell_type": "code",
   "execution_count": 11,
   "id": "b646e2b2",
   "metadata": {},
   "outputs": [
    {
     "data": {
      "text/plain": [
       "array([1., 1., 1., 1., 1.])"
      ]
     },
     "execution_count": 11,
     "metadata": {},
     "output_type": "execute_result"
    }
   ],
   "source": [
    "# defining target\n",
    "y = df_survey['q28'].ravel()\n",
    "y[:5]"
   ]
  },
  {
   "cell_type": "code",
   "execution_count": 12,
   "id": "09afa6fe",
   "metadata": {},
   "outputs": [],
   "source": [
    "# split the data into training and testing sets\n",
    "X_train, X_test, y_train, y_test = train_test_split(X, y, random_state=78)"
   ]
  },
  {
   "cell_type": "code",
   "execution_count": 13,
   "id": "58eaa9a9",
   "metadata": {},
   "outputs": [],
   "source": [
    "# scale the data\n",
    "scaler = StandardScaler()\n",
    "X_scaler = scaler.fit(X_train)\n",
    "X_train_scaled = X_scaler.transform(X_train)\n",
    "X_test_scaled = X_scaler.transform(X_test)"
   ]
  },
  {
   "cell_type": "code",
   "execution_count": 14,
   "id": "d8f06841",
   "metadata": {},
   "outputs": [],
   "source": [
    "# create the random forest classifier\n",
    "rf_model = RandomForestClassifier(n_estimators=128, random_state=78)"
   ]
  },
  {
   "cell_type": "code",
   "execution_count": 15,
   "id": "cd8d5fbc",
   "metadata": {},
   "outputs": [],
   "source": [
    "# fit the model\n",
    "rf_model = rf_model.fit(X_train_scaled, y_train)"
   ]
  },
  {
   "cell_type": "code",
   "execution_count": 16,
   "id": "eba7d9b4",
   "metadata": {},
   "outputs": [],
   "source": [
    "# make predictions\n",
    "predictions = rf_model.predict(X_test_scaled)"
   ]
  },
  {
   "cell_type": "code",
   "execution_count": 17,
   "id": "142eff40",
   "metadata": {},
   "outputs": [
    {
     "data": {
      "text/html": [
       "<div>\n",
       "<style scoped>\n",
       "    .dataframe tbody tr th:only-of-type {\n",
       "        vertical-align: middle;\n",
       "    }\n",
       "\n",
       "    .dataframe tbody tr th {\n",
       "        vertical-align: top;\n",
       "    }\n",
       "\n",
       "    .dataframe thead th {\n",
       "        text-align: right;\n",
       "    }\n",
       "</style>\n",
       "<table border=\"1\" class=\"dataframe\">\n",
       "  <thead>\n",
       "    <tr style=\"text-align: right;\">\n",
       "      <th></th>\n",
       "      <th>Predicted False</th>\n",
       "      <th>Predicted True</th>\n",
       "    </tr>\n",
       "  </thead>\n",
       "  <tbody>\n",
       "    <tr>\n",
       "      <th>Actual False</th>\n",
       "      <td>515</td>\n",
       "      <td>299</td>\n",
       "    </tr>\n",
       "    <tr>\n",
       "      <th>Actual True</th>\n",
       "      <td>10</td>\n",
       "      <td>2596</td>\n",
       "    </tr>\n",
       "  </tbody>\n",
       "</table>\n",
       "</div>"
      ],
      "text/plain": [
       "              Predicted False  Predicted True\n",
       "Actual False              515             299\n",
       "Actual True                10            2596"
      ]
     },
     "execution_count": 17,
     "metadata": {},
     "output_type": "execute_result"
    }
   ],
   "source": [
    "# calculate confusion matrix\n",
    "cm = confusion_matrix(y_test, predictions)\n",
    "cm_df = pd.DataFrame(\n",
    "    cm, index=['Actual False', 'Actual True'], columns=['Predicted False', 'Predicted True']\n",
    "    )\n",
    "cm_df"
   ]
  },
  {
   "cell_type": "code",
   "execution_count": 18,
   "id": "10e94804",
   "metadata": {},
   "outputs": [
    {
     "name": "stdout",
     "output_type": "stream",
     "text": [
      "CONFUSION MATRIX\n"
     ]
    },
    {
     "data": {
      "text/html": [
       "<div>\n",
       "<style scoped>\n",
       "    .dataframe tbody tr th:only-of-type {\n",
       "        vertical-align: middle;\n",
       "    }\n",
       "\n",
       "    .dataframe tbody tr th {\n",
       "        vertical-align: top;\n",
       "    }\n",
       "\n",
       "    .dataframe thead th {\n",
       "        text-align: right;\n",
       "    }\n",
       "</style>\n",
       "<table border=\"1\" class=\"dataframe\">\n",
       "  <thead>\n",
       "    <tr style=\"text-align: right;\">\n",
       "      <th></th>\n",
       "      <th>Predicted False</th>\n",
       "      <th>Predicted True</th>\n",
       "    </tr>\n",
       "  </thead>\n",
       "  <tbody>\n",
       "    <tr>\n",
       "      <th>Actual False</th>\n",
       "      <td>515</td>\n",
       "      <td>299</td>\n",
       "    </tr>\n",
       "    <tr>\n",
       "      <th>Actual True</th>\n",
       "      <td>10</td>\n",
       "      <td>2596</td>\n",
       "    </tr>\n",
       "  </tbody>\n",
       "</table>\n",
       "</div>"
      ],
      "text/plain": [
       "              Predicted False  Predicted True\n",
       "Actual False              515             299\n",
       "Actual True                10            2596"
      ]
     },
     "metadata": {},
     "output_type": "display_data"
    },
    {
     "name": "stdout",
     "output_type": "stream",
     "text": [
      "CLASSIFICATION REPORT\n",
      "              precision    recall  f1-score   support\n",
      "\n",
      "         0.0       0.98      0.63      0.77       814\n",
      "         1.0       0.90      1.00      0.94      2606\n",
      "\n",
      "    accuracy                           0.91      3420\n",
      "   macro avg       0.94      0.81      0.86      3420\n",
      "weighted avg       0.92      0.91      0.90      3420\n",
      "\n"
     ]
    }
   ],
   "source": [
    "# display results\n",
    "print('CONFUSION MATRIX')\n",
    "display(cm_df)\n",
    "print('CLASSIFICATION REPORT')\n",
    "print(classification_report(y_test, predictions))"
   ]
  },
  {
   "cell_type": "code",
   "execution_count": 19,
   "id": "3f0f43b5",
   "metadata": {},
   "outputs": [
    {
     "ename": "NameError",
     "evalue": "name 'accuracy' is not defined",
     "output_type": "error",
     "traceback": [
      "\u001b[1;31m---------------------------------------------------------------------------\u001b[0m",
      "\u001b[1;31mNameError\u001b[0m                                 Traceback (most recent call last)",
      "\u001b[1;32m~\\AppData\\Local\\Temp\\ipykernel_21204\\366158450.py\u001b[0m in \u001b[0;36m<module>\u001b[1;34m\u001b[0m\n\u001b[0;32m      1\u001b[0m \u001b[1;31m# store accuracy, recall, and f1 score variables\u001b[0m\u001b[1;33m\u001b[0m\u001b[1;33m\u001b[0m\u001b[1;33m\u001b[0m\u001b[0m\n\u001b[1;32m----> 2\u001b[1;33m \u001b[0mbasic_1_model_accuracy\u001b[0m \u001b[1;33m=\u001b[0m \u001b[0maccuracy\u001b[0m\u001b[1;33m\u001b[0m\u001b[1;33m\u001b[0m\u001b[0m\n\u001b[0m\u001b[0;32m      3\u001b[0m \u001b[1;31m#basic_1_model_recall = recall\u001b[0m\u001b[1;33m\u001b[0m\u001b[1;33m\u001b[0m\u001b[1;33m\u001b[0m\u001b[0m\n\u001b[0;32m      4\u001b[0m \u001b[1;31m#basic_1_model_f1 = f1 score\u001b[0m\u001b[1;33m\u001b[0m\u001b[1;33m\u001b[0m\u001b[1;33m\u001b[0m\u001b[0m\n",
      "\u001b[1;31mNameError\u001b[0m: name 'accuracy' is not defined"
     ]
    }
   ],
   "source": [
    "# store accuracy, recall, and f1 score variables\n",
    "basic_1_model_accuracy = accuracy\n",
    "#basic_1_model_recall = recall\n",
    "#basic_1_model_f1 = f1 score"
   ]
  },
  {
   "cell_type": "code",
   "execution_count": null,
   "id": "b1fc55ed",
   "metadata": {},
   "outputs": [],
   "source": [
    "# 1st pause and evaluate\n",
    "recall of “1” value\n",
    "Is the recall score greater than .75?\n",
    "If yes, initial pass succeeds.\n",
    "If no, initial pass fails. \n",
    "\n",
    "If it succeeds….    move on to feature importance and begin identifying and removing values that do not influence the output very much. determine if that improves performance\n",
    "\n",
    "If it fails…\n",
    "If this is your first or second interpolate method pass through, return to top and interpolate through another unused method.\n",
    "If this is your third time, move on to feature importance and begin identifying and removing values that do not influence the output very much"
   ]
  },
  {
   "cell_type": "code",
   "execution_count": null,
   "id": "782b02e7",
   "metadata": {},
   "outputs": [],
   "source": [
    "# calculate feature importance \n",
    "importances = sorted(zip(rf_model.feature_importances_, X.columns), reverse=True)\n",
    "importances"
   ]
  },
  {
   "cell_type": "code",
   "execution_count": null,
   "id": "69f6ada1",
   "metadata": {},
   "outputs": [],
   "source": [
    "# drop less important columns\n",
    "X = X.drop(“less important columns”)"
   ]
  },
  {
   "cell_type": "code",
   "execution_count": null,
   "id": "04fbb06d",
   "metadata": {},
   "outputs": [],
   "source": [
    "# split the data into training and testing sets\n",
    "X_train, X_test, y_train, y_test = train_test_split(X, y, random_state=78)"
   ]
  },
  {
   "cell_type": "code",
   "execution_count": null,
   "id": "c0a9c33f",
   "metadata": {},
   "outputs": [],
   "source": [
    "# scale the data\n",
    "scaler = StandardScaler()\n",
    "X_scaler = scaler.fit(X_train)\n",
    "X_train_scaled = X_scaler.transform(X_train)\n",
    "X_test_scaled = X_scaler.transform(X_test)"
   ]
  },
  {
   "cell_type": "code",
   "execution_count": null,
   "id": "e8362430",
   "metadata": {},
   "outputs": [],
   "source": [
    "# create the random forest classifier\n",
    "rf_model = RandomForestClassifier(n_estimators=128, random_state=78)"
   ]
  },
  {
   "cell_type": "code",
   "execution_count": null,
   "id": "10f2415f",
   "metadata": {},
   "outputs": [],
   "source": [
    "# fit the model\n",
    "rf_model = rf_model.fit(X_scaled, y_train)"
   ]
  },
  {
   "cell_type": "code",
   "execution_count": null,
   "id": "b7023779",
   "metadata": {},
   "outputs": [],
   "source": [
    "# make predictions\n",
    "predictions = rf_model.predict(X_test_scaled)"
   ]
  },
  {
   "cell_type": "code",
   "execution_count": null,
   "id": "6491fa65",
   "metadata": {},
   "outputs": [],
   "source": [
    "# calculate confusion matrix\n",
    "cm = confusion_matrix(y_test, predictions)\n",
    "cm_df = pd.DataFrame(\n",
    "\tcm, index=[“Actual False”, “Actual True”], columns=[“Predicted False”, “Predicted True”]\n",
    "\t)\n",
    "cm_df"
   ]
  },
  {
   "cell_type": "code",
   "execution_count": null,
   "id": "322742bd",
   "metadata": {},
   "outputs": [],
   "source": [
    "# display results\n",
    "print(“CONFUSION MATRIX”)\n",
    "display(cm_df)\n",
    "print(“CLASSIFICATION REPORT”)\n",
    "print(classification_report(y_test, predictions))"
   ]
  },
  {
   "cell_type": "code",
   "execution_count": null,
   "id": "e36f0c5f",
   "metadata": {},
   "outputs": [],
   "source": [
    "# store accuracy, recall, and f1 score variables\n",
    "feature_model_accuracy = accuracy\n",
    "feature_model_recall = recall\n",
    "feature_model_f1 = f1 score"
   ]
  },
  {
   "cell_type": "code",
   "execution_count": null,
   "id": "9e10f95d",
   "metadata": {},
   "outputs": [],
   "source": [
    "# store accuracy, recall, and f1 score variables\n",
    "basic_1_model_accuracy = accuracy\n",
    "basic_1_model_recall = recall\n",
    "basic_1_model_f1 = f1 score"
   ]
  },
  {
   "cell_type": "code",
   "execution_count": null,
   "id": "0911ff89",
   "metadata": {},
   "outputs": [],
   "source": [
    "# \n",
    "data = [ ,index=[‘Accuracy’, ‘Recall’, ‘F1 Score’]"
   ]
  },
  {
   "cell_type": "code",
   "execution_count": null,
   "id": "4db6d3db",
   "metadata": {},
   "outputs": [],
   "source": [
    "df = pd.DataFrame([1, 2, 3])\n",
    "\n",
    "from pathlib import Path  \n",
    "\n",
    "filepath = Path('data/out.csv')  \n",
    "\n",
    "df.to_csv(filepath)  "
   ]
  }
 ],
 "metadata": {
  "kernelspec": {
   "display_name": "mlenv",
   "language": "python",
   "name": "mlenv"
  },
  "language_info": {
   "codemirror_mode": {
    "name": "ipython",
    "version": 3
   },
   "file_extension": ".py",
   "mimetype": "text/x-python",
   "name": "python",
   "nbconvert_exporter": "python",
   "pygments_lexer": "ipython3",
   "version": "3.7.13"
  }
 },
 "nbformat": 4,
 "nbformat_minor": 5
}
